{
 "cells": [
  {
   "cell_type": "markdown",
   "id": "6f45ddd2-7c5a-444b-96b5-9b0d338e8fd6",
   "metadata": {},
   "source": [
    "Import Required Libraries: You import the necessary libraries for building and training your models."
   ]
  },
  {
   "cell_type": "code",
   "execution_count": null,
   "id": "0d65cbf8-357f-4a3c-b3e6-90ec5849d734",
   "metadata": {},
   "outputs": [],
   "source": [
    "import numpy as np\n",
    "import tensorflow as tf\n",
    "from tensorflow.keras import layers, models\n",
    "import matplotlib.pyplot as plt"
   ]
  },
  {
   "cell_type": "markdown",
   "id": "50775daa-f288-4ef4-9acf-289bef237731",
   "metadata": {},
   "source": [
    "Hyperparameters: You define the model’s hyperparameters such as input/output dimensions, learning rate, etc."
   ]
  },
  {
   "cell_type": "code",
   "execution_count": null,
   "id": "c66ef045-9ae1-4f72-adc0-285100e434f7",
   "metadata": {},
   "outputs": [],
   "source": [
    "\n",
    "num_epochs = 100\n",
    "batch_size = 64\n",
    "learning_rate = 0.001\n",
    "num_symbols = 16\n",
    "num_bits_per_symbol = 4\n",
    "channel_noise_std = 0.1"
   ]
  },
  {
   "cell_type": "markdown",
   "id": "94351d62-0c09-4232-8140-a9ff9fa527e2",
   "metadata": {},
   "source": [
    "Define Variables: Define variables specific to your communication system, like SNR and noise."
   ]
  },
  {
   "cell_type": "code",
   "execution_count": null,
   "id": "fba89c1e-0ce8-41eb-8702-1b7c94a70acf",
   "metadata": {},
   "outputs": [],
   "source": [
    "input_dim = num_bits_per_symbol\n",
    "output_dim = num_symbols"
   ]
  },
  {
   "cell_type": "markdown",
   "id": "7ab740ab-fe01-410d-9634-46c2235f200c",
   "metadata": {},
   "source": [
    "Transmitter Architecture: A neural network that encodes the input signal into a transmitted signal."
   ]
  },
  {
   "cell_type": "code",
   "execution_count": null,
   "id": "fe5cbc57-efd5-4381-b398-d8b894e84123",
   "metadata": {},
   "outputs": [],
   "source": [
    "def build_transmitter(input_dim, output_dim):\n",
    "model = models.Sequential()\n",
    "model.add(layers.InputLayer(input_shape=(input_dim,)))\n",
    "model.add(layers.Dense(128, activation='relu'))\n",
    "model.add(layers.Dense(64, activation='relu'))\n",
    "model.add(layers.Dense(output_dim, activation='softmax'))\n",
    "return model"
   ]
  },
  {
   "cell_type": "markdown",
   "id": "5b1bec82-e8fe-421a-84ec-37dacd286333",
   "metadata": {},
   "source": [
    "Declaring Models: The models are declared and connected to simulate the transmission process."
   ]
  },
  {
   "cell_type": "code",
   "execution_count": null,
   "id": "2e64df69-25be-471b-a390-7e1b8b5adfdd",
   "metadata": {},
   "outputs": [],
   "source": [
    "# Input and Transmitter model\n",
    "transmitter = build_transmitter(input_dim, output_dim)\n",
    "receiver = build_receiver(output_dim, input_dim)"
   ]
  },
  {
   "cell_type": "markdown",
   "id": "71ad5114-c7e1-4402-a27e-677b426f2ff2",
   "metadata": {},
   "source": [
    "compiling the models"
   ]
  },
  {
   "cell_type": "code",
   "execution_count": null,
   "id": "f4fa2474-76c1-41ce-8934-fdcb18279870",
   "metadata": {},
   "outputs": [],
   "source": [
    "# Compile the models\n",
    "transmitter.compile(optimizer=tf.keras.optimizers.Adam(learning_rate), loss='categorical_crossentropy')\n",
    "receiver.compile(optimizer=tf.keras.optimizers.Adam(learning_rate), loss='categorical_crossentropy')"
   ]
  },
  {
   "cell_type": "markdown",
   "id": "628af103-fc43-4b04-9774-d302c32131da",
   "metadata": {},
   "source": [
    "Receiver Architecture: Another neural network that decodes the received signal back into the original input."
   ]
  },
  {
   "cell_type": "code",
   "execution_count": null,
   "id": "49d61e16-8e33-4514-9f29-ddaa80540350",
   "metadata": {},
   "outputs": [],
   "source": [
    "def build_receiver(output_dim, input_dim):\n",
    " model = models.Sequential()\n",
    "model.add(layers.InputLayer(input_shape=(output_dim,)))\n",
    "model.add(layers.Dense(64, activation='relu'))\n",
    "model.add(layers.Dense(128, activation='relu'))\n",
    "model.add(layers.Dense(input_dim, activation='softmax'))\n",
    "return model"
   ]
  },
  {
   "cell_type": "markdown",
   "id": "89e75d42-6965-446d-918b-46e7109f06b8",
   "metadata": {},
   "source": [
    "Alternative Training: Both transmitter and receiver are trained iteratively."
   ]
  },
  {
   "cell_type": "code",
   "execution_count": null,
   "id": "a156d6db-0fac-4d33-9ec6-0c4b53ae6696",
   "metadata": {},
   "outputs": [],
   "source": [
    "transmitter_losses = []\n",
    "eceiver_losses = []\n",
    "for epoch in range(num_epochs):\n",
    "    # Generate random data\n",
    "data = np.random.randint(0, 2, (batch_size, input_dim))\n",
    "labels = tf.keras.utils.to_categorical(data, num_classes=output_dim)\n",
    "\n",
    " # Train transmitter\n",
    "transmitter_loss = transmitter.train_on_batch(data, labels)\n",
    "transmitter_losses.append(transmitter_loss)\n",
    "\n",
    " Pass through channel (add noise)\n",
    "transmitted_signal = transmitter.predict(data)\n",
    " noisy_signal = transmitted_signal + np.random.normal(0, channel_noise_std, transmitted_signal.shape)\n",
    "\n",
    "    # Train receiver\n",
    "  receiver_loss = receiver.train_on_batch(noisy_signal, labels)\n",
    " receiver_losses.append(receiver_loss)\n",
    "\n"
   ]
  },
  {
   "cell_type": "markdown",
   "id": "fcddb43d-5193-43db-bcff-856dcbdf25e3",
   "metadata": {},
   "source": [
    "Plotting: The training losses for both transmitter and receiver are plotted to monitor progress."
   ]
  },
  {
   "cell_type": "code",
   "execution_count": null,
   "id": "1bb5b5c6-ecf8-4661-87f0-73b3bc02cfdc",
   "metadata": {},
   "outputs": [],
   "source": [
    "plt.figure(figsize=(12, 6))\n",
    "plt.plot(transmitter_losses, label='Transmitter Loss')\n",
    "plt.plot(receiver_losses, label='Receiver Loss')\n",
    "plt.xlabel('Epoch')\n",
    "plt.ylabel('Loss')\n",
    "plt.legend()\n",
    "plt.title('Transmitter and Receiver Losses')\n",
    "plt.show()\n"
   ]
  },
  {
   "cell_type": "markdown",
   "id": "4383d3de-ce6a-430b-9924-322adeed331e",
   "metadata": {},
   "source": [
    "Predictions: Finally, the trained models are used to make predictions on test data, and accuracy is calculated."
   ]
  },
  {
   "cell_type": "code",
   "execution_count": null,
   "id": "9af668bf-c5f8-48b9-bc5b-e9d141dd6e19",
   "metadata": {},
   "outputs": [],
   "source": [
    "# Predictions\n",
    "test_data = np.random.randint(0, 2, (10, input_dim))\n",
    "transmitted_signal = transmitter.predict(test_data)\n",
    "noisy_signal = transmitted_signal + np.random.normal(0, channel_noise_std, transmitted_signal.shape)\n",
    "received_signal = receiver.predict(noisy_signal)\n",
    "\n",
    "print(\"Test Data:\")\n",
    "print(test_data)\n",
    "print(\"Received Signal:\")\n",
    "print(np.argmax(received_signal, axis=1))"
   ]
  }
 ],
 "metadata": {
  "kernelspec": {
   "display_name": "Python 3 (ipykernel)",
   "language": "python",
   "name": "python3"
  },
  "language_info": {
   "codemirror_mode": {
    "name": "ipython",
    "version": 3
   },
   "file_extension": ".py",
   "mimetype": "text/x-python",
   "name": "python",
   "nbconvert_exporter": "python",
   "pygments_lexer": "ipython3",
   "version": "3.12.4"
  }
 },
 "nbformat": 4,
 "nbformat_minor": 5
}
